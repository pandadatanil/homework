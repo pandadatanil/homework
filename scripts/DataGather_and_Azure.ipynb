{
  "nbformat": 4,
  "nbformat_minor": 0,
  "metadata": {
    "colab": {
      "provenance": []
    },
    "kernelspec": {
      "name": "python3",
      "display_name": "Python 3"
    },
    "language_info": {
      "name": "python"
    }
  },
  "cells": [
    {
      "cell_type": "code",
      "source": [
        "!pip install azure-storage-blob"
      ],
      "metadata": {
        "id": "D5jYXMd3w3aD",
        "colab": {
          "base_uri": "https://localhost:8080/"
        },
        "outputId": "924f626e-12b8-432b-e4cc-f2708999cd83"
      },
      "execution_count": 1,
      "outputs": [
        {
          "output_type": "stream",
          "name": "stdout",
          "text": [
            "Collecting azure-storage-blob\n",
            "  Downloading azure_storage_blob-12.19.1-py3-none-any.whl (394 kB)\n",
            "\u001b[2K     \u001b[90m━━━━━━━━━━━━━━━━━━━━━━━━━━━━━━━━━━━━━━━━\u001b[0m \u001b[32m394.5/394.5 kB\u001b[0m \u001b[31m3.2 MB/s\u001b[0m eta \u001b[36m0:00:00\u001b[0m\n",
            "\u001b[?25hCollecting azure-core<2.0.0,>=1.28.0 (from azure-storage-blob)\n",
            "  Downloading azure_core-1.30.1-py3-none-any.whl (193 kB)\n",
            "\u001b[2K     \u001b[90m━━━━━━━━━━━━━━━━━━━━━━━━━━━━━━━━━━━━━━━━\u001b[0m \u001b[32m193.4/193.4 kB\u001b[0m \u001b[31m5.9 MB/s\u001b[0m eta \u001b[36m0:00:00\u001b[0m\n",
            "\u001b[?25hRequirement already satisfied: cryptography>=2.1.4 in /usr/local/lib/python3.10/dist-packages (from azure-storage-blob) (42.0.5)\n",
            "Requirement already satisfied: typing-extensions>=4.3.0 in /usr/local/lib/python3.10/dist-packages (from azure-storage-blob) (4.11.0)\n",
            "Collecting isodate>=0.6.1 (from azure-storage-blob)\n",
            "  Downloading isodate-0.6.1-py2.py3-none-any.whl (41 kB)\n",
            "\u001b[2K     \u001b[90m━━━━━━━━━━━━━━━━━━━━━━━━━━━━━━━━━━━━━━━━\u001b[0m \u001b[32m41.7/41.7 kB\u001b[0m \u001b[31m2.2 MB/s\u001b[0m eta \u001b[36m0:00:00\u001b[0m\n",
            "\u001b[?25hRequirement already satisfied: requests>=2.21.0 in /usr/local/lib/python3.10/dist-packages (from azure-core<2.0.0,>=1.28.0->azure-storage-blob) (2.31.0)\n",
            "Requirement already satisfied: six>=1.11.0 in /usr/local/lib/python3.10/dist-packages (from azure-core<2.0.0,>=1.28.0->azure-storage-blob) (1.16.0)\n",
            "Requirement already satisfied: cffi>=1.12 in /usr/local/lib/python3.10/dist-packages (from cryptography>=2.1.4->azure-storage-blob) (1.16.0)\n",
            "Requirement already satisfied: pycparser in /usr/local/lib/python3.10/dist-packages (from cffi>=1.12->cryptography>=2.1.4->azure-storage-blob) (2.22)\n",
            "Requirement already satisfied: charset-normalizer<4,>=2 in /usr/local/lib/python3.10/dist-packages (from requests>=2.21.0->azure-core<2.0.0,>=1.28.0->azure-storage-blob) (3.3.2)\n",
            "Requirement already satisfied: idna<4,>=2.5 in /usr/local/lib/python3.10/dist-packages (from requests>=2.21.0->azure-core<2.0.0,>=1.28.0->azure-storage-blob) (3.7)\n",
            "Requirement already satisfied: urllib3<3,>=1.21.1 in /usr/local/lib/python3.10/dist-packages (from requests>=2.21.0->azure-core<2.0.0,>=1.28.0->azure-storage-blob) (2.0.7)\n",
            "Requirement already satisfied: certifi>=2017.4.17 in /usr/local/lib/python3.10/dist-packages (from requests>=2.21.0->azure-core<2.0.0,>=1.28.0->azure-storage-blob) (2024.2.2)\n",
            "Installing collected packages: isodate, azure-core, azure-storage-blob\n",
            "Successfully installed azure-core-1.30.1 azure-storage-blob-12.19.1 isodate-0.6.1\n"
          ]
        }
      ]
    },
    {
      "cell_type": "code",
      "execution_count": 2,
      "metadata": {
        "id": "x11YvGf9__Xt"
      },
      "outputs": [],
      "source": [
        "# import Librairies\n",
        "import pandas as pd\n",
        "import numpy as np\n",
        "import json\n",
        "import requests\n",
        "from azure.storage.blob import BlobServiceClient, BlobClient, ContainerClient\n",
        "from io import StringIO"
      ]
    },
    {
      "cell_type": "code",
      "source": [
        "URL = \"https://data.cityofnewyork.us/resource/erm2-nwe9.csv\""
      ],
      "metadata": {
        "id": "W5oq12grJ6Md"
      },
      "execution_count": 3,
      "outputs": []
    },
    {
      "cell_type": "code",
      "source": [
        "limit = 100000\n",
        "URL2 = f'{URL}?$limit={limit}'"
      ],
      "metadata": {
        "id": "tQoiriwOLw_c"
      },
      "execution_count": 4,
      "outputs": []
    },
    {
      "cell_type": "code",
      "source": [
        "df_raw = pd.read_csv(URL2)\n",
        "df_raw.head()"
      ],
      "metadata": {
        "colab": {
          "base_uri": "https://localhost:8080/",
          "height": 447
        },
        "id": "rkrp5jfNKDTM",
        "outputId": "ada880ca-a9df-493f-e6e7-c8ba39b66af6"
      },
      "execution_count": 5,
      "outputs": [
        {
          "output_type": "stream",
          "name": "stderr",
          "text": [
            "<ipython-input-5-53c00a5b18c7>:1: DtypeWarning: Columns (18) have mixed types. Specify dtype option on import or set low_memory=False.\n",
            "  df_raw = pd.read_csv(URL2)\n"
          ]
        },
        {
          "output_type": "execute_result",
          "data": {
            "text/plain": [
              "   unique_key             created_date closed_date agency  \\\n",
              "0    60903704  2024-04-19T01:58:13.000         NaN    DOT   \n",
              "1    60914765  2024-04-19T01:51:21.000         NaN   NYPD   \n",
              "2    60914650  2024-04-19T01:51:19.000         NaN   NYPD   \n",
              "3    60906953  2024-04-19T01:50:56.000         NaN   NYPD   \n",
              "4    60908518  2024-04-19T01:50:49.000         NaN   NYPD   \n",
              "\n",
              "                       agency_name      complaint_type        descriptor  \\\n",
              "0     Department of Transportation    Street Condition           Pothole   \n",
              "1  New York City Police Department  Noise - Commercial  Loud Music/Party   \n",
              "2  New York City Police Department    Blocked Driveway    Partial Access   \n",
              "3  New York City Police Department     Illegal Parking   Blocked Hydrant   \n",
              "4  New York City Police Department  Noise - Commercial  Loud Music/Party   \n",
              "\n",
              "         location_type  incident_zip     incident_address  ... vehicle_type  \\\n",
              "0                  NaN       11211.0  METROPOLITAN AVENUE  ...          NaN   \n",
              "1  Club/Bar/Restaurant       10013.0   40 MULBERRY STREET  ...          NaN   \n",
              "2      Street/Sidewalk       11221.0    831 MONROE STREET  ...          NaN   \n",
              "3      Street/Sidewalk       11210.0  2708 BEDFORD AVENUE  ...          NaN   \n",
              "4     Store/Commercial       10033.0        4325 BROADWAY  ...          NaN   \n",
              "\n",
              "  taxi_company_borough taxi_pick_up_location bridge_highway_name  \\\n",
              "0                  NaN                   NaN                 NaN   \n",
              "1                  NaN                   NaN                 NaN   \n",
              "2                  NaN                   NaN                 NaN   \n",
              "3                  NaN                   NaN                 NaN   \n",
              "4                  NaN                   NaN                 NaN   \n",
              "\n",
              "  bridge_highway_direction road_ramp bridge_highway_segment   latitude  \\\n",
              "0                      NaN       NaN                    NaN        NaN   \n",
              "1                      NaN       NaN                    NaN  40.714837   \n",
              "2                      NaN       NaN                    NaN  40.688651   \n",
              "3                      NaN       NaN                    NaN  40.636832   \n",
              "4                      NaN       NaN                    NaN  40.852371   \n",
              "\n",
              "   longitude                                        location  \n",
              "0        NaN                                             NaN  \n",
              "1 -73.999614  \\n,  \\n(40.71483730104454, -73.99961402373336)  \n",
              "2 -73.922958  \\n,  \\n(40.68865115071951, -73.92295765130292)  \n",
              "3 -73.953632  \\n,  \\n(40.63683244425841, -73.95363249985976)  \n",
              "4 -73.934628  \\n,  \\n(40.85237108974576, -73.93462789776359)  \n",
              "\n",
              "[5 rows x 41 columns]"
            ],
            "text/html": [
              "\n",
              "  <div id=\"df-63c503ac-dde3-4afb-81a9-16ea767274c6\" class=\"colab-df-container\">\n",
              "    <div>\n",
              "<style scoped>\n",
              "    .dataframe tbody tr th:only-of-type {\n",
              "        vertical-align: middle;\n",
              "    }\n",
              "\n",
              "    .dataframe tbody tr th {\n",
              "        vertical-align: top;\n",
              "    }\n",
              "\n",
              "    .dataframe thead th {\n",
              "        text-align: right;\n",
              "    }\n",
              "</style>\n",
              "<table border=\"1\" class=\"dataframe\">\n",
              "  <thead>\n",
              "    <tr style=\"text-align: right;\">\n",
              "      <th></th>\n",
              "      <th>unique_key</th>\n",
              "      <th>created_date</th>\n",
              "      <th>closed_date</th>\n",
              "      <th>agency</th>\n",
              "      <th>agency_name</th>\n",
              "      <th>complaint_type</th>\n",
              "      <th>descriptor</th>\n",
              "      <th>location_type</th>\n",
              "      <th>incident_zip</th>\n",
              "      <th>incident_address</th>\n",
              "      <th>...</th>\n",
              "      <th>vehicle_type</th>\n",
              "      <th>taxi_company_borough</th>\n",
              "      <th>taxi_pick_up_location</th>\n",
              "      <th>bridge_highway_name</th>\n",
              "      <th>bridge_highway_direction</th>\n",
              "      <th>road_ramp</th>\n",
              "      <th>bridge_highway_segment</th>\n",
              "      <th>latitude</th>\n",
              "      <th>longitude</th>\n",
              "      <th>location</th>\n",
              "    </tr>\n",
              "  </thead>\n",
              "  <tbody>\n",
              "    <tr>\n",
              "      <th>0</th>\n",
              "      <td>60903704</td>\n",
              "      <td>2024-04-19T01:58:13.000</td>\n",
              "      <td>NaN</td>\n",
              "      <td>DOT</td>\n",
              "      <td>Department of Transportation</td>\n",
              "      <td>Street Condition</td>\n",
              "      <td>Pothole</td>\n",
              "      <td>NaN</td>\n",
              "      <td>11211.0</td>\n",
              "      <td>METROPOLITAN AVENUE</td>\n",
              "      <td>...</td>\n",
              "      <td>NaN</td>\n",
              "      <td>NaN</td>\n",
              "      <td>NaN</td>\n",
              "      <td>NaN</td>\n",
              "      <td>NaN</td>\n",
              "      <td>NaN</td>\n",
              "      <td>NaN</td>\n",
              "      <td>NaN</td>\n",
              "      <td>NaN</td>\n",
              "      <td>NaN</td>\n",
              "    </tr>\n",
              "    <tr>\n",
              "      <th>1</th>\n",
              "      <td>60914765</td>\n",
              "      <td>2024-04-19T01:51:21.000</td>\n",
              "      <td>NaN</td>\n",
              "      <td>NYPD</td>\n",
              "      <td>New York City Police Department</td>\n",
              "      <td>Noise - Commercial</td>\n",
              "      <td>Loud Music/Party</td>\n",
              "      <td>Club/Bar/Restaurant</td>\n",
              "      <td>10013.0</td>\n",
              "      <td>40 MULBERRY STREET</td>\n",
              "      <td>...</td>\n",
              "      <td>NaN</td>\n",
              "      <td>NaN</td>\n",
              "      <td>NaN</td>\n",
              "      <td>NaN</td>\n",
              "      <td>NaN</td>\n",
              "      <td>NaN</td>\n",
              "      <td>NaN</td>\n",
              "      <td>40.714837</td>\n",
              "      <td>-73.999614</td>\n",
              "      <td>\\n,  \\n(40.71483730104454, -73.99961402373336)</td>\n",
              "    </tr>\n",
              "    <tr>\n",
              "      <th>2</th>\n",
              "      <td>60914650</td>\n",
              "      <td>2024-04-19T01:51:19.000</td>\n",
              "      <td>NaN</td>\n",
              "      <td>NYPD</td>\n",
              "      <td>New York City Police Department</td>\n",
              "      <td>Blocked Driveway</td>\n",
              "      <td>Partial Access</td>\n",
              "      <td>Street/Sidewalk</td>\n",
              "      <td>11221.0</td>\n",
              "      <td>831 MONROE STREET</td>\n",
              "      <td>...</td>\n",
              "      <td>NaN</td>\n",
              "      <td>NaN</td>\n",
              "      <td>NaN</td>\n",
              "      <td>NaN</td>\n",
              "      <td>NaN</td>\n",
              "      <td>NaN</td>\n",
              "      <td>NaN</td>\n",
              "      <td>40.688651</td>\n",
              "      <td>-73.922958</td>\n",
              "      <td>\\n,  \\n(40.68865115071951, -73.92295765130292)</td>\n",
              "    </tr>\n",
              "    <tr>\n",
              "      <th>3</th>\n",
              "      <td>60906953</td>\n",
              "      <td>2024-04-19T01:50:56.000</td>\n",
              "      <td>NaN</td>\n",
              "      <td>NYPD</td>\n",
              "      <td>New York City Police Department</td>\n",
              "      <td>Illegal Parking</td>\n",
              "      <td>Blocked Hydrant</td>\n",
              "      <td>Street/Sidewalk</td>\n",
              "      <td>11210.0</td>\n",
              "      <td>2708 BEDFORD AVENUE</td>\n",
              "      <td>...</td>\n",
              "      <td>NaN</td>\n",
              "      <td>NaN</td>\n",
              "      <td>NaN</td>\n",
              "      <td>NaN</td>\n",
              "      <td>NaN</td>\n",
              "      <td>NaN</td>\n",
              "      <td>NaN</td>\n",
              "      <td>40.636832</td>\n",
              "      <td>-73.953632</td>\n",
              "      <td>\\n,  \\n(40.63683244425841, -73.95363249985976)</td>\n",
              "    </tr>\n",
              "    <tr>\n",
              "      <th>4</th>\n",
              "      <td>60908518</td>\n",
              "      <td>2024-04-19T01:50:49.000</td>\n",
              "      <td>NaN</td>\n",
              "      <td>NYPD</td>\n",
              "      <td>New York City Police Department</td>\n",
              "      <td>Noise - Commercial</td>\n",
              "      <td>Loud Music/Party</td>\n",
              "      <td>Store/Commercial</td>\n",
              "      <td>10033.0</td>\n",
              "      <td>4325 BROADWAY</td>\n",
              "      <td>...</td>\n",
              "      <td>NaN</td>\n",
              "      <td>NaN</td>\n",
              "      <td>NaN</td>\n",
              "      <td>NaN</td>\n",
              "      <td>NaN</td>\n",
              "      <td>NaN</td>\n",
              "      <td>NaN</td>\n",
              "      <td>40.852371</td>\n",
              "      <td>-73.934628</td>\n",
              "      <td>\\n,  \\n(40.85237108974576, -73.93462789776359)</td>\n",
              "    </tr>\n",
              "  </tbody>\n",
              "</table>\n",
              "<p>5 rows × 41 columns</p>\n",
              "</div>\n",
              "    <div class=\"colab-df-buttons\">\n",
              "\n",
              "  <div class=\"colab-df-container\">\n",
              "    <button class=\"colab-df-convert\" onclick=\"convertToInteractive('df-63c503ac-dde3-4afb-81a9-16ea767274c6')\"\n",
              "            title=\"Convert this dataframe to an interactive table.\"\n",
              "            style=\"display:none;\">\n",
              "\n",
              "  <svg xmlns=\"http://www.w3.org/2000/svg\" height=\"24px\" viewBox=\"0 -960 960 960\">\n",
              "    <path d=\"M120-120v-720h720v720H120Zm60-500h600v-160H180v160Zm220 220h160v-160H400v160Zm0 220h160v-160H400v160ZM180-400h160v-160H180v160Zm440 0h160v-160H620v160ZM180-180h160v-160H180v160Zm440 0h160v-160H620v160Z\"/>\n",
              "  </svg>\n",
              "    </button>\n",
              "\n",
              "  <style>\n",
              "    .colab-df-container {\n",
              "      display:flex;\n",
              "      gap: 12px;\n",
              "    }\n",
              "\n",
              "    .colab-df-convert {\n",
              "      background-color: #E8F0FE;\n",
              "      border: none;\n",
              "      border-radius: 50%;\n",
              "      cursor: pointer;\n",
              "      display: none;\n",
              "      fill: #1967D2;\n",
              "      height: 32px;\n",
              "      padding: 0 0 0 0;\n",
              "      width: 32px;\n",
              "    }\n",
              "\n",
              "    .colab-df-convert:hover {\n",
              "      background-color: #E2EBFA;\n",
              "      box-shadow: 0px 1px 2px rgba(60, 64, 67, 0.3), 0px 1px 3px 1px rgba(60, 64, 67, 0.15);\n",
              "      fill: #174EA6;\n",
              "    }\n",
              "\n",
              "    .colab-df-buttons div {\n",
              "      margin-bottom: 4px;\n",
              "    }\n",
              "\n",
              "    [theme=dark] .colab-df-convert {\n",
              "      background-color: #3B4455;\n",
              "      fill: #D2E3FC;\n",
              "    }\n",
              "\n",
              "    [theme=dark] .colab-df-convert:hover {\n",
              "      background-color: #434B5C;\n",
              "      box-shadow: 0px 1px 3px 1px rgba(0, 0, 0, 0.15);\n",
              "      filter: drop-shadow(0px 1px 2px rgba(0, 0, 0, 0.3));\n",
              "      fill: #FFFFFF;\n",
              "    }\n",
              "  </style>\n",
              "\n",
              "    <script>\n",
              "      const buttonEl =\n",
              "        document.querySelector('#df-63c503ac-dde3-4afb-81a9-16ea767274c6 button.colab-df-convert');\n",
              "      buttonEl.style.display =\n",
              "        google.colab.kernel.accessAllowed ? 'block' : 'none';\n",
              "\n",
              "      async function convertToInteractive(key) {\n",
              "        const element = document.querySelector('#df-63c503ac-dde3-4afb-81a9-16ea767274c6');\n",
              "        const dataTable =\n",
              "          await google.colab.kernel.invokeFunction('convertToInteractive',\n",
              "                                                    [key], {});\n",
              "        if (!dataTable) return;\n",
              "\n",
              "        const docLinkHtml = 'Like what you see? Visit the ' +\n",
              "          '<a target=\"_blank\" href=https://colab.research.google.com/notebooks/data_table.ipynb>data table notebook</a>'\n",
              "          + ' to learn more about interactive tables.';\n",
              "        element.innerHTML = '';\n",
              "        dataTable['output_type'] = 'display_data';\n",
              "        await google.colab.output.renderOutput(dataTable, element);\n",
              "        const docLink = document.createElement('div');\n",
              "        docLink.innerHTML = docLinkHtml;\n",
              "        element.appendChild(docLink);\n",
              "      }\n",
              "    </script>\n",
              "  </div>\n",
              "\n",
              "\n",
              "<div id=\"df-8008c2b7-3558-439b-af6e-f00f21d3f797\">\n",
              "  <button class=\"colab-df-quickchart\" onclick=\"quickchart('df-8008c2b7-3558-439b-af6e-f00f21d3f797')\"\n",
              "            title=\"Suggest charts\"\n",
              "            style=\"display:none;\">\n",
              "\n",
              "<svg xmlns=\"http://www.w3.org/2000/svg\" height=\"24px\"viewBox=\"0 0 24 24\"\n",
              "     width=\"24px\">\n",
              "    <g>\n",
              "        <path d=\"M19 3H5c-1.1 0-2 .9-2 2v14c0 1.1.9 2 2 2h14c1.1 0 2-.9 2-2V5c0-1.1-.9-2-2-2zM9 17H7v-7h2v7zm4 0h-2V7h2v10zm4 0h-2v-4h2v4z\"/>\n",
              "    </g>\n",
              "</svg>\n",
              "  </button>\n",
              "\n",
              "<style>\n",
              "  .colab-df-quickchart {\n",
              "      --bg-color: #E8F0FE;\n",
              "      --fill-color: #1967D2;\n",
              "      --hover-bg-color: #E2EBFA;\n",
              "      --hover-fill-color: #174EA6;\n",
              "      --disabled-fill-color: #AAA;\n",
              "      --disabled-bg-color: #DDD;\n",
              "  }\n",
              "\n",
              "  [theme=dark] .colab-df-quickchart {\n",
              "      --bg-color: #3B4455;\n",
              "      --fill-color: #D2E3FC;\n",
              "      --hover-bg-color: #434B5C;\n",
              "      --hover-fill-color: #FFFFFF;\n",
              "      --disabled-bg-color: #3B4455;\n",
              "      --disabled-fill-color: #666;\n",
              "  }\n",
              "\n",
              "  .colab-df-quickchart {\n",
              "    background-color: var(--bg-color);\n",
              "    border: none;\n",
              "    border-radius: 50%;\n",
              "    cursor: pointer;\n",
              "    display: none;\n",
              "    fill: var(--fill-color);\n",
              "    height: 32px;\n",
              "    padding: 0;\n",
              "    width: 32px;\n",
              "  }\n",
              "\n",
              "  .colab-df-quickchart:hover {\n",
              "    background-color: var(--hover-bg-color);\n",
              "    box-shadow: 0 1px 2px rgba(60, 64, 67, 0.3), 0 1px 3px 1px rgba(60, 64, 67, 0.15);\n",
              "    fill: var(--button-hover-fill-color);\n",
              "  }\n",
              "\n",
              "  .colab-df-quickchart-complete:disabled,\n",
              "  .colab-df-quickchart-complete:disabled:hover {\n",
              "    background-color: var(--disabled-bg-color);\n",
              "    fill: var(--disabled-fill-color);\n",
              "    box-shadow: none;\n",
              "  }\n",
              "\n",
              "  .colab-df-spinner {\n",
              "    border: 2px solid var(--fill-color);\n",
              "    border-color: transparent;\n",
              "    border-bottom-color: var(--fill-color);\n",
              "    animation:\n",
              "      spin 1s steps(1) infinite;\n",
              "  }\n",
              "\n",
              "  @keyframes spin {\n",
              "    0% {\n",
              "      border-color: transparent;\n",
              "      border-bottom-color: var(--fill-color);\n",
              "      border-left-color: var(--fill-color);\n",
              "    }\n",
              "    20% {\n",
              "      border-color: transparent;\n",
              "      border-left-color: var(--fill-color);\n",
              "      border-top-color: var(--fill-color);\n",
              "    }\n",
              "    30% {\n",
              "      border-color: transparent;\n",
              "      border-left-color: var(--fill-color);\n",
              "      border-top-color: var(--fill-color);\n",
              "      border-right-color: var(--fill-color);\n",
              "    }\n",
              "    40% {\n",
              "      border-color: transparent;\n",
              "      border-right-color: var(--fill-color);\n",
              "      border-top-color: var(--fill-color);\n",
              "    }\n",
              "    60% {\n",
              "      border-color: transparent;\n",
              "      border-right-color: var(--fill-color);\n",
              "    }\n",
              "    80% {\n",
              "      border-color: transparent;\n",
              "      border-right-color: var(--fill-color);\n",
              "      border-bottom-color: var(--fill-color);\n",
              "    }\n",
              "    90% {\n",
              "      border-color: transparent;\n",
              "      border-bottom-color: var(--fill-color);\n",
              "    }\n",
              "  }\n",
              "</style>\n",
              "\n",
              "  <script>\n",
              "    async function quickchart(key) {\n",
              "      const quickchartButtonEl =\n",
              "        document.querySelector('#' + key + ' button');\n",
              "      quickchartButtonEl.disabled = true;  // To prevent multiple clicks.\n",
              "      quickchartButtonEl.classList.add('colab-df-spinner');\n",
              "      try {\n",
              "        const charts = await google.colab.kernel.invokeFunction(\n",
              "            'suggestCharts', [key], {});\n",
              "      } catch (error) {\n",
              "        console.error('Error during call to suggestCharts:', error);\n",
              "      }\n",
              "      quickchartButtonEl.classList.remove('colab-df-spinner');\n",
              "      quickchartButtonEl.classList.add('colab-df-quickchart-complete');\n",
              "    }\n",
              "    (() => {\n",
              "      let quickchartButtonEl =\n",
              "        document.querySelector('#df-8008c2b7-3558-439b-af6e-f00f21d3f797 button');\n",
              "      quickchartButtonEl.style.display =\n",
              "        google.colab.kernel.accessAllowed ? 'block' : 'none';\n",
              "    })();\n",
              "  </script>\n",
              "</div>\n",
              "\n",
              "    </div>\n",
              "  </div>\n"
            ],
            "application/vnd.google.colaboratory.intrinsic+json": {
              "type": "dataframe",
              "variable_name": "df_raw"
            }
          },
          "metadata": {},
          "execution_count": 5
        }
      ]
    },
    {
      "cell_type": "code",
      "source": [
        "df_raw.columns"
      ],
      "metadata": {
        "colab": {
          "base_uri": "https://localhost:8080/"
        },
        "id": "cBhKwHXrLHWn",
        "outputId": "779705de-9d25-4131-da64-91851391ad3a"
      },
      "execution_count": 6,
      "outputs": [
        {
          "output_type": "execute_result",
          "data": {
            "text/plain": [
              "Index(['unique_key', 'created_date', 'closed_date', 'agency', 'agency_name',\n",
              "       'complaint_type', 'descriptor', 'location_type', 'incident_zip',\n",
              "       'incident_address', 'street_name', 'cross_street_1', 'cross_street_2',\n",
              "       'intersection_street_1', 'intersection_street_2', 'address_type',\n",
              "       'city', 'landmark', 'facility_type', 'status', 'due_date',\n",
              "       'resolution_description', 'resolution_action_updated_date',\n",
              "       'community_board', 'bbl', 'borough', 'x_coordinate_state_plane',\n",
              "       'y_coordinate_state_plane', 'open_data_channel_type',\n",
              "       'park_facility_name', 'park_borough', 'vehicle_type',\n",
              "       'taxi_company_borough', 'taxi_pick_up_location', 'bridge_highway_name',\n",
              "       'bridge_highway_direction', 'road_ramp', 'bridge_highway_segment',\n",
              "       'latitude', 'longitude', 'location'],\n",
              "      dtype='object')"
            ]
          },
          "metadata": {},
          "execution_count": 6
        }
      ]
    },
    {
      "cell_type": "code",
      "source": [
        "df_raw.shape"
      ],
      "metadata": {
        "colab": {
          "base_uri": "https://localhost:8080/"
        },
        "id": "H-zFhrYsLa6E",
        "outputId": "0fac9ab3-3990-4b40-c116-4e1f7f2889ac"
      },
      "execution_count": 7,
      "outputs": [
        {
          "output_type": "execute_result",
          "data": {
            "text/plain": [
              "(100000, 41)"
            ]
          },
          "metadata": {},
          "execution_count": 7
        }
      ]
    },
    {
      "cell_type": "code",
      "source": [
        "df_raw.info()"
      ],
      "metadata": {
        "colab": {
          "base_uri": "https://localhost:8080/"
        },
        "id": "HcI27YI-MRtZ",
        "outputId": "f0a5b550-39fb-46fb-8f50-b3f0132658fb"
      },
      "execution_count": 8,
      "outputs": [
        {
          "output_type": "stream",
          "name": "stdout",
          "text": [
            "<class 'pandas.core.frame.DataFrame'>\n",
            "RangeIndex: 100000 entries, 0 to 99999\n",
            "Data columns (total 41 columns):\n",
            " #   Column                          Non-Null Count   Dtype  \n",
            "---  ------                          --------------   -----  \n",
            " 0   unique_key                      100000 non-null  int64  \n",
            " 1   created_date                    100000 non-null  object \n",
            " 2   closed_date                     72890 non-null   object \n",
            " 3   agency                          100000 non-null  object \n",
            " 4   agency_name                     100000 non-null  object \n",
            " 5   complaint_type                  100000 non-null  object \n",
            " 6   descriptor                      97083 non-null   object \n",
            " 7   location_type                   86431 non-null   object \n",
            " 8   incident_zip                    98897 non-null   float64\n",
            " 9   incident_address                95935 non-null   object \n",
            " 10  street_name                     95932 non-null   object \n",
            " 11  cross_street_1                  72559 non-null   object \n",
            " 12  cross_street_2                  72564 non-null   object \n",
            " 13  intersection_street_1           68459 non-null   object \n",
            " 14  intersection_street_2           68509 non-null   object \n",
            " 15  address_type                    99597 non-null   object \n",
            " 16  city                            95077 non-null   object \n",
            " 17  landmark                        60911 non-null   object \n",
            " 18  facility_type                   342 non-null     object \n",
            " 19  status                          100000 non-null  object \n",
            " 20  due_date                        724 non-null     object \n",
            " 21  resolution_description          87627 non-null   object \n",
            " 22  resolution_action_updated_date  89011 non-null   object \n",
            " 23  community_board                 100000 non-null  object \n",
            " 24  bbl                             87261 non-null   float64\n",
            " 25  borough                         100000 non-null  object \n",
            " 26  x_coordinate_state_plane        97543 non-null   float64\n",
            " 27  y_coordinate_state_plane        97544 non-null   float64\n",
            " 28  open_data_channel_type          100000 non-null  object \n",
            " 29  park_facility_name              99894 non-null   object \n",
            " 30  park_borough                    100000 non-null  object \n",
            " 31  vehicle_type                    5856 non-null    object \n",
            " 32  taxi_company_borough            72 non-null      object \n",
            " 33  taxi_pick_up_location           1156 non-null    object \n",
            " 34  bridge_highway_name             649 non-null     object \n",
            " 35  bridge_highway_direction        376 non-null     object \n",
            " 36  road_ramp                       292 non-null     object \n",
            " 37  bridge_highway_segment          649 non-null     object \n",
            " 38  latitude                        97543 non-null   float64\n",
            " 39  longitude                       97543 non-null   float64\n",
            " 40  location                        97543 non-null   object \n",
            "dtypes: float64(6), int64(1), object(34)\n",
            "memory usage: 31.3+ MB\n"
          ]
        }
      ]
    },
    {
      "cell_type": "code",
      "source": [
        "df_raw.dropna()\n",
        "df_raw.shape"
      ],
      "metadata": {
        "id": "hfWzT963NeGk",
        "colab": {
          "base_uri": "https://localhost:8080/"
        },
        "outputId": "7e388b2d-35e9-433a-e1f0-73f592c20118"
      },
      "execution_count": 9,
      "outputs": [
        {
          "output_type": "execute_result",
          "data": {
            "text/plain": [
              "(100000, 41)"
            ]
          },
          "metadata": {},
          "execution_count": 9
        }
      ]
    },
    {
      "cell_type": "code",
      "source": [
        "df_cleaned = df_raw.copy()"
      ],
      "metadata": {
        "id": "Yk8eqQnPFDss"
      },
      "execution_count": 10,
      "outputs": []
    },
    {
      "cell_type": "code",
      "source": [
        "df_cleaned = df_raw.drop(columns = ['road_ramp','location_type','incident_address','cross_street_1','cross_street_2','intersection_street_1','intersection_street_2','address_type','landmark','facility_type','due_date','community_board','bbl','x_coordinate_state_plane','y_coordinate_state_plane','park_facility_name','park_borough','vehicle_type','taxi_company_borough','taxi_pick_up_location','bridge_highway_name','bridge_highway_direction','road_ramp','bridge_highway_segment'])"
      ],
      "metadata": {
        "id": "HeJRHTtsFD2T"
      },
      "execution_count": 12,
      "outputs": []
    },
    {
      "cell_type": "code",
      "source": [
        "df_cleaned.info()"
      ],
      "metadata": {
        "id": "KNCU47JjFD-w",
        "colab": {
          "base_uri": "https://localhost:8080/"
        },
        "outputId": "b8017228-4494-44d2-9616-94a8f42565ff"
      },
      "execution_count": 13,
      "outputs": [
        {
          "output_type": "stream",
          "name": "stdout",
          "text": [
            "<class 'pandas.core.frame.DataFrame'>\n",
            "RangeIndex: 100000 entries, 0 to 99999\n",
            "Data columns (total 18 columns):\n",
            " #   Column                          Non-Null Count   Dtype  \n",
            "---  ------                          --------------   -----  \n",
            " 0   unique_key                      100000 non-null  int64  \n",
            " 1   created_date                    100000 non-null  object \n",
            " 2   closed_date                     72890 non-null   object \n",
            " 3   agency                          100000 non-null  object \n",
            " 4   agency_name                     100000 non-null  object \n",
            " 5   complaint_type                  100000 non-null  object \n",
            " 6   descriptor                      97083 non-null   object \n",
            " 7   incident_zip                    98897 non-null   float64\n",
            " 8   street_name                     95932 non-null   object \n",
            " 9   city                            95077 non-null   object \n",
            " 10  status                          100000 non-null  object \n",
            " 11  resolution_description          87627 non-null   object \n",
            " 12  resolution_action_updated_date  89011 non-null   object \n",
            " 13  borough                         100000 non-null  object \n",
            " 14  open_data_channel_type          100000 non-null  object \n",
            " 15  latitude                        97543 non-null   float64\n",
            " 16  longitude                       97543 non-null   float64\n",
            " 17  location                        97543 non-null   object \n",
            "dtypes: float64(3), int64(1), object(14)\n",
            "memory usage: 13.7+ MB\n"
          ]
        }
      ]
    },
    {
      "cell_type": "code",
      "source": [
        "from io import BytesIO, StringIO\n",
        "\n",
        "# Azure Functions\n",
        "def azure_upload_blob(connect_str, container_name, blob_name, data):\n",
        "    blob_service_client = BlobServiceClient.from_connection_string(connect_str)\n",
        "    blob_client = blob_service_client.get_blob_client(container=container_name, blob=blob_name)\n",
        "    blob_client.upload_blob(data, overwrite=True)\n",
        "    print(f\"Uploaded to Azure Blob: {blob_name}\")\n",
        "\n",
        "def azure_download_blob(connect_str, container_name, blob_name):\n",
        "    blob_service_client = BlobServiceClient.from_connection_string(connect_str)\n",
        "    blob_client = blob_service_client.get_blob_client(container=container_name, blob=blob_name)\n",
        "    download_stream = blob_client.download_blob()\n",
        "    return download_stream.readall()"
      ],
      "metadata": {
        "id": "4lU-yXA27bN8"
      },
      "execution_count": 14,
      "outputs": []
    },
    {
      "cell_type": "code",
      "source": [
        "#specify the path to your JSON configuration file\n",
        "config_file_path = 'config.json'\n",
        "\n",
        "#Load the JSON configuration file\n",
        "with open(config_file_path,'r') as config_file:\n",
        "    config=json.load(config_file)\n",
        "\n",
        "#Print the configuration\n",
        "#Connection_STRING = config[\"connectionString\"]"
      ],
      "metadata": {
        "id": "1fGnVErFAIVE"
      },
      "execution_count": 15,
      "outputs": []
    },
    {
      "cell_type": "code",
      "source": [
        "#Create Azure account, Azure storage\n",
        "#Create container, copy access keys\n",
        "CONNECTION_STRING_AZURE_STORAGE = config['connectionString']\n",
        "CONTAINER_AZURE = 'homework1'"
      ],
      "metadata": {
        "id": "e9ubjonrv0HE"
      },
      "execution_count": 16,
      "outputs": []
    },
    {
      "cell_type": "code",
      "source": [
        "blob_name = \"homework1_311_20240420.csv\"\n",
        "\n",
        "# Convert DataFrame to CSV\n",
        "output = StringIO()\n",
        "df_raw.to_csv(output, index=False)\n",
        "data = output.getvalue()\n",
        "output.close()\n",
        "\n",
        "# Create the BlobServiceClient object\n",
        "blob_service_client = BlobServiceClient.from_connection_string(CONNECTION_STRING_AZURE_STORAGE)\n",
        "\n",
        "# Get a blob client using the container name and blob name\n",
        "blob_client = blob_service_client.get_blob_client(container=CONTAINER_AZURE, blob=blob_name)\n",
        "\n",
        "# Upload the CSV data\n",
        "blob_client.upload_blob(data, overwrite=True)\n",
        "\n",
        "print(f\"Uploaded {blob_name} to Azure Blob Storage in container {CONTAINER_AZURE}.\")"
      ],
      "metadata": {
        "id": "M43qB2Cp06Q8",
        "colab": {
          "base_uri": "https://localhost:8080/"
        },
        "outputId": "655a2c90-8da1-47f6-ed9c-822d5a53cc10"
      },
      "execution_count": 17,
      "outputs": [
        {
          "output_type": "stream",
          "name": "stdout",
          "text": [
            "Uploaded homework1_311_20240420.csv to Azure Blob Storage in container homework1.\n"
          ]
        }
      ]
    }
  ]
}